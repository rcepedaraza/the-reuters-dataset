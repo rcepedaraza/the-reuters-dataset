{
 "cells": [
  {
   "cell_type": "markdown",
   "id": "236de2fc",
   "metadata": {},
   "source": [
    "## The Reutres dataset"
   ]
  },
  {
   "cell_type": "markdown",
   "id": "720e07fd",
   "metadata": {},
   "source": [
    "A set of short newswires and their topics, published by Reuters in 1986. There are 46 different topics and each topic has at least 10 examples in the training set."
   ]
  },
  {
   "cell_type": "markdown",
   "id": "fa642054",
   "metadata": {},
   "source": [
    "### Loading the Reuters dataset"
   ]
  },
  {
   "cell_type": "code",
   "execution_count": 17,
   "id": "57f999b2",
   "metadata": {},
   "outputs": [],
   "source": [
    "from tensorflow.keras.datasets import reuters\n",
    "from tensorflow.keras.utils import to_categorical # Converts a class vector (integers) to binary class matrix.\n",
    "from tensorflow.keras import models\n",
    "from tensorflow.keras import layers\n",
    "\n",
    "\n",
    "import numpy as np\n",
    "import pandas as pd"
   ]
  },
  {
   "cell_type": "code",
   "execution_count": 2,
   "id": "97de1f6e",
   "metadata": {},
   "outputs": [
    {
     "name": "stderr",
     "output_type": "stream",
     "text": [
      "/home/ricardo/anaconda3/lib/python3.8/site-packages/tensorflow/python/keras/datasets/reuters.py:148: VisibleDeprecationWarning: Creating an ndarray from ragged nested sequences (which is a list-or-tuple of lists-or-tuples-or ndarrays with different lengths or shapes) is deprecated. If you meant to do this, you must specify 'dtype=object' when creating the ndarray.\n",
      "  x_train, y_train = np.array(xs[:idx]), np.array(labels[:idx])\n",
      "/home/ricardo/anaconda3/lib/python3.8/site-packages/tensorflow/python/keras/datasets/reuters.py:149: VisibleDeprecationWarning: Creating an ndarray from ragged nested sequences (which is a list-or-tuple of lists-or-tuples-or ndarrays with different lengths or shapes) is deprecated. If you meant to do this, you must specify 'dtype=object' when creating the ndarray.\n",
      "  x_test, y_test = np.array(xs[idx:]), np.array(labels[idx:])\n"
     ]
    }
   ],
   "source": [
    "# Restrict the data to the 10,000 most frequently occurring words found in the data.\n",
    "(train_data, train_labels), (test_data, test_labels) = reuters.load_data(num_words=10000)"
   ]
  },
  {
   "cell_type": "code",
   "execution_count": 3,
   "id": "77c06c17",
   "metadata": {},
   "outputs": [
    {
     "name": "stdout",
     "output_type": "stream",
     "text": [
      "Train shape:\n",
      "(8982,)\n",
      "(8982,)\n",
      "\n",
      "Test shape:\n",
      "(2246,)\n",
      "(2246,)\n"
     ]
    }
   ],
   "source": [
    "print(\"Train shape:\")\n",
    "print(train_data.shape)\n",
    "print(train_labels.shape)\n",
    "print(\"\\nTest shape:\")\n",
    "print(test_data.shape)\n",
    "print(test_labels.shape)"
   ]
  },
  {
   "cell_type": "code",
   "execution_count": 4,
   "id": "74731777",
   "metadata": {},
   "outputs": [
    {
     "name": "stdout",
     "output_type": "stream",
     "text": [
      "[1, 2, 2, 8, 43, 10, 447, 5, 25, 207, 270, 5, 3095, 111, 16, 369, 186, 90, 67, 7, 89, 5, 19, 102, 6, 19, 124, 15, 90, 67, 84, 22, 482, 26, 7, 48, 4, 49, 8, 864, 39, 209, 154, 6, 151, 6, 83, 11, 15, 22, 155, 11, 15, 7, 48, 9, 4579, 1005, 504, 6, 258, 6, 272, 11, 15, 22, 134, 44, 11, 15, 16, 8, 197, 1245, 90, 67, 52, 29, 209, 30, 32, 132, 6, 109, 15, 17, 12]\n"
     ]
    }
   ],
   "source": [
    "print(train_data[0]) # word indices"
   ]
  },
  {
   "cell_type": "code",
   "execution_count": 5,
   "id": "53ab9b3f",
   "metadata": {},
   "outputs": [
    {
     "name": "stdout",
     "output_type": "stream",
     "text": [
      "3\n"
     ]
    }
   ],
   "source": [
    "print(train_labels[0]) # Topic index (integer between 0 and 45)"
   ]
  },
  {
   "cell_type": "markdown",
   "id": "591c3553",
   "metadata": {},
   "source": [
    "### Decoding newswires back to text"
   ]
  },
  {
   "cell_type": "code",
   "execution_count": 6,
   "id": "2f1d4145",
   "metadata": {},
   "outputs": [
    {
     "name": "stdout",
     "output_type": "stream",
     "text": [
      "? ? ? said as a result of its december acquisition of space co it expects earnings per share in 1987 of 1 15 to 1 30 dlrs per share up from 70 cts in 1986 the company said pretax net should rise to nine to 10 mln dlrs from six mln dlrs in 1986 and rental operation revenues to 19 to 22 mln dlrs from 12 5 mln dlrs it said cash flow per share this year should be 2 50 to three dlrs reuter 3\n"
     ]
    }
   ],
   "source": [
    "word_index = reuters.get_word_index()\n",
    "reverse_word_index = dict([(value, key) for (key, value) in word_index.items()])\n",
    "decoded_newswire = ' '.join([reverse_word_index.get(i - 3, '?') for i in train_data[0]]) # offset by 3 cause reserved indices\n",
    "print(decoded_newswire)"
   ]
  },
  {
   "cell_type": "markdown",
   "id": "72d1901b",
   "metadata": {},
   "source": [
    "### Preparing the data"
   ]
  },
  {
   "cell_type": "markdown",
   "id": "cd9bdb92",
   "metadata": {},
   "source": [
    "#### Encoding the data"
   ]
  },
  {
   "cell_type": "code",
   "execution_count": 7,
   "id": "fae77341",
   "metadata": {},
   "outputs": [],
   "source": [
    "def vectorize_seq(sequences, dim=10000):\n",
    "    results = np.zeros((len(sequences), dim))\n",
    "    for i, sequence in enumerate(sequences):\n",
    "        results[i, sequence] = 1.\n",
    "    return results"
   ]
  },
  {
   "cell_type": "code",
   "execution_count": 8,
   "id": "d59b0265",
   "metadata": {},
   "outputs": [],
   "source": [
    "x_train = vectorize_seq(train_data) # Vectorized train data\n",
    "x_test = vectorize_seq(test_data) # Vectorized test data"
   ]
  },
  {
   "cell_type": "code",
   "execution_count": 9,
   "id": "d8c1f435",
   "metadata": {},
   "outputs": [],
   "source": [
    "# To vectorize the labels\n",
    "one_hot_train_labels = to_categorical(train_labels)\n",
    "one_hot_test_labels = to_categorical(test_labels)"
   ]
  },
  {
   "cell_type": "markdown",
   "id": "03de00c6",
   "metadata": {},
   "source": [
    "### Building the network"
   ]
  },
  {
   "cell_type": "code",
   "execution_count": 10,
   "id": "430959f0",
   "metadata": {},
   "outputs": [],
   "source": [
    "model = models.Sequential()\n",
    "\n",
    "model.add(layers.Dense(64, activation='relu', input_shape=(10000,)))\n",
    "model.add(layers.Dense(64, activation='relu'))\n",
    "\n",
    "# For each input sample, the network will output a 46-dimensional vector.\n",
    "model.add(layers.Dense(46, activation='softmax')) # Softmax converts a real vector to a vector of categorical probabilities."
   ]
  },
  {
   "cell_type": "markdown",
   "id": "b31ebdac",
   "metadata": {},
   "source": [
    "### Compiling the model"
   ]
  },
  {
   "cell_type": "code",
   "execution_count": 11,
   "id": "83dd6606",
   "metadata": {},
   "outputs": [],
   "source": [
    "model.compile(optimizer='rmsprop',\n",
    "              loss='categorical_crossentropy',\n",
    "              metrics=['accuracy'])"
   ]
  },
  {
   "cell_type": "markdown",
   "id": "a077586b",
   "metadata": {},
   "source": [
    "### Validating"
   ]
  },
  {
   "cell_type": "markdown",
   "id": "5de9650d",
   "metadata": {},
   "source": [
    "#### Setting aside a validation set"
   ]
  },
  {
   "cell_type": "code",
   "execution_count": 12,
   "id": "23218b0a",
   "metadata": {},
   "outputs": [],
   "source": [
    "x_val = x_train[:1000]\n",
    "partial_x_train = x_train[1000:]\n",
    "\n",
    "y_val = one_hot_train_labels[:1000]\n",
    "partial_y_train = one_hot_train_labels[1000:]"
   ]
  },
  {
   "cell_type": "markdown",
   "id": "07c34466",
   "metadata": {},
   "source": [
    "### Training the model"
   ]
  },
  {
   "cell_type": "code",
   "execution_count": 15,
   "id": "c7066c17",
   "metadata": {},
   "outputs": [
    {
     "name": "stdout",
     "output_type": "stream",
     "text": [
      "Epoch 1/20\n",
      "16/16 [==============================] - 0s 14ms/step - loss: 0.0894 - accuracy: 0.9588 - val_loss: 1.3397 - val_accuracy: 0.7880\n",
      "Epoch 2/20\n",
      "16/16 [==============================] - 0s 11ms/step - loss: 0.0844 - accuracy: 0.9595 - val_loss: 1.3041 - val_accuracy: 0.7940\n",
      "Epoch 3/20\n",
      "16/16 [==============================] - 0s 11ms/step - loss: 0.0869 - accuracy: 0.9607 - val_loss: 1.3331 - val_accuracy: 0.7920\n",
      "Epoch 4/20\n",
      "16/16 [==============================] - 0s 11ms/step - loss: 0.0880 - accuracy: 0.9588 - val_loss: 1.4106 - val_accuracy: 0.7860\n",
      "Epoch 5/20\n",
      "16/16 [==============================] - 0s 11ms/step - loss: 0.0882 - accuracy: 0.9582 - val_loss: 1.3486 - val_accuracy: 0.7880\n",
      "Epoch 6/20\n",
      "16/16 [==============================] - 0s 10ms/step - loss: 0.0856 - accuracy: 0.9602 - val_loss: 1.3301 - val_accuracy: 0.7900\n",
      "Epoch 7/20\n",
      "16/16 [==============================] - 0s 10ms/step - loss: 0.0863 - accuracy: 0.9603 - val_loss: 1.3951 - val_accuracy: 0.7860\n",
      "Epoch 8/20\n",
      "16/16 [==============================] - 0s 10ms/step - loss: 0.0838 - accuracy: 0.9589 - val_loss: 1.3924 - val_accuracy: 0.7790\n",
      "Epoch 9/20\n",
      "16/16 [==============================] - 0s 10ms/step - loss: 0.0838 - accuracy: 0.9587 - val_loss: 1.3623 - val_accuracy: 0.7860\n",
      "Epoch 10/20\n",
      "16/16 [==============================] - 0s 10ms/step - loss: 0.0877 - accuracy: 0.9574 - val_loss: 1.3506 - val_accuracy: 0.7840\n",
      "Epoch 11/20\n",
      "16/16 [==============================] - 0s 10ms/step - loss: 0.0826 - accuracy: 0.9588 - val_loss: 1.3890 - val_accuracy: 0.7750\n",
      "Epoch 12/20\n",
      "16/16 [==============================] - 0s 11ms/step - loss: 0.0819 - accuracy: 0.9578 - val_loss: 1.3942 - val_accuracy: 0.7860\n",
      "Epoch 13/20\n",
      "16/16 [==============================] - 0s 10ms/step - loss: 0.0832 - accuracy: 0.9589 - val_loss: 1.4012 - val_accuracy: 0.7860\n",
      "Epoch 14/20\n",
      "16/16 [==============================] - 0s 10ms/step - loss: 0.0794 - accuracy: 0.9594 - val_loss: 1.4400 - val_accuracy: 0.7760\n",
      "Epoch 15/20\n",
      "16/16 [==============================] - 0s 11ms/step - loss: 0.0825 - accuracy: 0.9600 - val_loss: 1.3693 - val_accuracy: 0.7840\n",
      "Epoch 16/20\n",
      "16/16 [==============================] - 0s 10ms/step - loss: 0.0823 - accuracy: 0.9594 - val_loss: 1.4705 - val_accuracy: 0.7830\n",
      "Epoch 17/20\n",
      "16/16 [==============================] - 0s 10ms/step - loss: 0.0800 - accuracy: 0.9592 - val_loss: 1.3877 - val_accuracy: 0.7880\n",
      "Epoch 18/20\n",
      "16/16 [==============================] - 0s 11ms/step - loss: 0.0800 - accuracy: 0.9584 - val_loss: 1.4955 - val_accuracy: 0.7720\n",
      "Epoch 19/20\n",
      "16/16 [==============================] - 0s 13ms/step - loss: 0.0797 - accuracy: 0.9592 - val_loss: 1.5065 - val_accuracy: 0.7760\n",
      "Epoch 20/20\n",
      "16/16 [==============================] - 0s 13ms/step - loss: 0.0769 - accuracy: 0.9594 - val_loss: 1.5070 - val_accuracy: 0.7880\n"
     ]
    }
   ],
   "source": [
    "# For 20 epochs\n",
    "EPOCHS = 20\n",
    "history = model.fit(partial_x_train,\n",
    "                    partial_y_train,\n",
    "                    epochs=EPOCHS,\n",
    "                    batch_size=512,\n",
    "                    validation_data=(x_val, y_val))"
   ]
  },
  {
   "cell_type": "code",
   "execution_count": 20,
   "id": "3ea93257",
   "metadata": {},
   "outputs": [
    {
     "data": {
      "text/html": [
       "<div>\n",
       "<style scoped>\n",
       "    .dataframe tbody tr th:only-of-type {\n",
       "        vertical-align: middle;\n",
       "    }\n",
       "\n",
       "    .dataframe tbody tr th {\n",
       "        vertical-align: top;\n",
       "    }\n",
       "\n",
       "    .dataframe thead th {\n",
       "        text-align: right;\n",
       "    }\n",
       "</style>\n",
       "<table border=\"1\" class=\"dataframe\">\n",
       "  <thead>\n",
       "    <tr style=\"text-align: right;\">\n",
       "      <th></th>\n",
       "      <th>loss</th>\n",
       "      <th>accuracy</th>\n",
       "      <th>val_loss</th>\n",
       "      <th>val_accuracy</th>\n",
       "    </tr>\n",
       "  </thead>\n",
       "  <tbody>\n",
       "    <tr>\n",
       "      <th>0</th>\n",
       "      <td>0.089420</td>\n",
       "      <td>0.958782</td>\n",
       "      <td>1.339677</td>\n",
       "      <td>0.788</td>\n",
       "    </tr>\n",
       "    <tr>\n",
       "      <th>1</th>\n",
       "      <td>0.084371</td>\n",
       "      <td>0.959534</td>\n",
       "      <td>1.304138</td>\n",
       "      <td>0.794</td>\n",
       "    </tr>\n",
       "    <tr>\n",
       "      <th>2</th>\n",
       "      <td>0.086857</td>\n",
       "      <td>0.960661</td>\n",
       "      <td>1.333124</td>\n",
       "      <td>0.792</td>\n",
       "    </tr>\n",
       "    <tr>\n",
       "      <th>3</th>\n",
       "      <td>0.087997</td>\n",
       "      <td>0.958782</td>\n",
       "      <td>1.410606</td>\n",
       "      <td>0.786</td>\n",
       "    </tr>\n",
       "    <tr>\n",
       "      <th>4</th>\n",
       "      <td>0.088196</td>\n",
       "      <td>0.958156</td>\n",
       "      <td>1.348563</td>\n",
       "      <td>0.788</td>\n",
       "    </tr>\n",
       "    <tr>\n",
       "      <th>5</th>\n",
       "      <td>0.085586</td>\n",
       "      <td>0.960160</td>\n",
       "      <td>1.330065</td>\n",
       "      <td>0.790</td>\n",
       "    </tr>\n",
       "    <tr>\n",
       "      <th>6</th>\n",
       "      <td>0.086258</td>\n",
       "      <td>0.960286</td>\n",
       "      <td>1.395137</td>\n",
       "      <td>0.786</td>\n",
       "    </tr>\n",
       "    <tr>\n",
       "      <th>7</th>\n",
       "      <td>0.083834</td>\n",
       "      <td>0.958908</td>\n",
       "      <td>1.392447</td>\n",
       "      <td>0.779</td>\n",
       "    </tr>\n",
       "    <tr>\n",
       "      <th>8</th>\n",
       "      <td>0.083787</td>\n",
       "      <td>0.958657</td>\n",
       "      <td>1.362253</td>\n",
       "      <td>0.786</td>\n",
       "    </tr>\n",
       "    <tr>\n",
       "      <th>9</th>\n",
       "      <td>0.087706</td>\n",
       "      <td>0.957404</td>\n",
       "      <td>1.350576</td>\n",
       "      <td>0.784</td>\n",
       "    </tr>\n",
       "    <tr>\n",
       "      <th>10</th>\n",
       "      <td>0.082581</td>\n",
       "      <td>0.958782</td>\n",
       "      <td>1.389047</td>\n",
       "      <td>0.775</td>\n",
       "    </tr>\n",
       "    <tr>\n",
       "      <th>11</th>\n",
       "      <td>0.081929</td>\n",
       "      <td>0.957780</td>\n",
       "      <td>1.394202</td>\n",
       "      <td>0.786</td>\n",
       "    </tr>\n",
       "    <tr>\n",
       "      <th>12</th>\n",
       "      <td>0.083189</td>\n",
       "      <td>0.958908</td>\n",
       "      <td>1.401190</td>\n",
       "      <td>0.786</td>\n",
       "    </tr>\n",
       "    <tr>\n",
       "      <th>13</th>\n",
       "      <td>0.079433</td>\n",
       "      <td>0.959409</td>\n",
       "      <td>1.440041</td>\n",
       "      <td>0.776</td>\n",
       "    </tr>\n",
       "    <tr>\n",
       "      <th>14</th>\n",
       "      <td>0.082515</td>\n",
       "      <td>0.960035</td>\n",
       "      <td>1.369301</td>\n",
       "      <td>0.784</td>\n",
       "    </tr>\n",
       "    <tr>\n",
       "      <th>15</th>\n",
       "      <td>0.082314</td>\n",
       "      <td>0.959409</td>\n",
       "      <td>1.470470</td>\n",
       "      <td>0.783</td>\n",
       "    </tr>\n",
       "    <tr>\n",
       "      <th>16</th>\n",
       "      <td>0.079995</td>\n",
       "      <td>0.959158</td>\n",
       "      <td>1.387655</td>\n",
       "      <td>0.788</td>\n",
       "    </tr>\n",
       "    <tr>\n",
       "      <th>17</th>\n",
       "      <td>0.080040</td>\n",
       "      <td>0.958406</td>\n",
       "      <td>1.495461</td>\n",
       "      <td>0.772</td>\n",
       "    </tr>\n",
       "    <tr>\n",
       "      <th>18</th>\n",
       "      <td>0.079741</td>\n",
       "      <td>0.959158</td>\n",
       "      <td>1.506542</td>\n",
       "      <td>0.776</td>\n",
       "    </tr>\n",
       "    <tr>\n",
       "      <th>19</th>\n",
       "      <td>0.076884</td>\n",
       "      <td>0.959409</td>\n",
       "      <td>1.507001</td>\n",
       "      <td>0.788</td>\n",
       "    </tr>\n",
       "  </tbody>\n",
       "</table>\n",
       "</div>"
      ],
      "text/plain": [
       "        loss  accuracy  val_loss  val_accuracy\n",
       "0   0.089420  0.958782  1.339677         0.788\n",
       "1   0.084371  0.959534  1.304138         0.794\n",
       "2   0.086857  0.960661  1.333124         0.792\n",
       "3   0.087997  0.958782  1.410606         0.786\n",
       "4   0.088196  0.958156  1.348563         0.788\n",
       "5   0.085586  0.960160  1.330065         0.790\n",
       "6   0.086258  0.960286  1.395137         0.786\n",
       "7   0.083834  0.958908  1.392447         0.779\n",
       "8   0.083787  0.958657  1.362253         0.786\n",
       "9   0.087706  0.957404  1.350576         0.784\n",
       "10  0.082581  0.958782  1.389047         0.775\n",
       "11  0.081929  0.957780  1.394202         0.786\n",
       "12  0.083189  0.958908  1.401190         0.786\n",
       "13  0.079433  0.959409  1.440041         0.776\n",
       "14  0.082515  0.960035  1.369301         0.784\n",
       "15  0.082314  0.959409  1.470470         0.783\n",
       "16  0.079995  0.959158  1.387655         0.788\n",
       "17  0.080040  0.958406  1.495461         0.772\n",
       "18  0.079741  0.959158  1.506542         0.776\n",
       "19  0.076884  0.959409  1.507001         0.788"
      ]
     },
     "execution_count": 20,
     "metadata": {},
     "output_type": "execute_result"
    }
   ],
   "source": [
    "history_df = pd.DataFrame(history.history)\n",
    "history_df"
   ]
  },
  {
   "cell_type": "code",
   "execution_count": null,
   "id": "1852683e",
   "metadata": {},
   "outputs": [],
   "source": []
  },
  {
   "cell_type": "code",
   "execution_count": null,
   "id": "9cb8cb29",
   "metadata": {},
   "outputs": [],
   "source": []
  },
  {
   "cell_type": "code",
   "execution_count": null,
   "id": "26cf959e",
   "metadata": {},
   "outputs": [],
   "source": []
  },
  {
   "cell_type": "code",
   "execution_count": null,
   "id": "3e8f392f",
   "metadata": {},
   "outputs": [],
   "source": []
  },
  {
   "cell_type": "code",
   "execution_count": null,
   "id": "d53b4c15",
   "metadata": {},
   "outputs": [],
   "source": []
  },
  {
   "cell_type": "code",
   "execution_count": null,
   "id": "1d7b8f62",
   "metadata": {},
   "outputs": [],
   "source": []
  }
 ],
 "metadata": {
  "kernelspec": {
   "display_name": "tensorflow",
   "language": "python",
   "name": "tensorflow"
  },
  "language_info": {
   "codemirror_mode": {
    "name": "ipython",
    "version": 3
   },
   "file_extension": ".py",
   "mimetype": "text/x-python",
   "name": "python",
   "nbconvert_exporter": "python",
   "pygments_lexer": "ipython3",
   "version": "3.8.8"
  }
 },
 "nbformat": 4,
 "nbformat_minor": 5
}
