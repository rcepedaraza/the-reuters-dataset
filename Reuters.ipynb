{
 "cells": [
  {
   "cell_type": "markdown",
   "id": "236de2fc",
   "metadata": {},
   "source": [
    "## The Reutres dataset"
   ]
  },
  {
   "cell_type": "markdown",
   "id": "720e07fd",
   "metadata": {},
   "source": [
    "A set of short newswires and their topics, published by Reuters in 1986. There are 46 different topics and each topic has at least 10 examples in the training set."
   ]
  },
  {
   "cell_type": "markdown",
   "id": "fa642054",
   "metadata": {},
   "source": [
    "### Loading the Reuters dataset"
   ]
  },
  {
   "cell_type": "code",
   "execution_count": 1,
   "id": "57f999b2",
   "metadata": {},
   "outputs": [],
   "source": [
    "from tensorflow.keras.datasets import reuters\n",
    "from tensorflow.keras.utils import to_categorical # Converts a class vector (integers) to binary class matrix.\n",
    "from tensorflow.keras import models\n",
    "from tensorflow.keras import layers\n",
    "\n",
    "\n",
    "import numpy as np\n",
    "import pandas as pd\n",
    "import matplotlib.pyplot as plt\n",
    "import seaborn as sns\n",
    "import matplotlib as mpl\n",
    "\n",
    "sns.set_style('darkgrid')\n",
    "mpl.rcParams[\"figure.dpi\"]=125"
   ]
  },
  {
   "cell_type": "code",
   "execution_count": 2,
   "id": "dd327c55",
   "metadata": {},
   "outputs": [
    {
     "name": "stderr",
     "output_type": "stream",
     "text": [
      "/home/ricardo/anaconda3/lib/python3.8/site-packages/tensorflow/python/keras/datasets/reuters.py:148: VisibleDeprecationWarning: Creating an ndarray from ragged nested sequences (which is a list-or-tuple of lists-or-tuples-or ndarrays with different lengths or shapes) is deprecated. If you meant to do this, you must specify 'dtype=object' when creating the ndarray.\n",
      "  x_train, y_train = np.array(xs[:idx]), np.array(labels[:idx])\n",
      "/home/ricardo/anaconda3/lib/python3.8/site-packages/tensorflow/python/keras/datasets/reuters.py:149: VisibleDeprecationWarning: Creating an ndarray from ragged nested sequences (which is a list-or-tuple of lists-or-tuples-or ndarrays with different lengths or shapes) is deprecated. If you meant to do this, you must specify 'dtype=object' when creating the ndarray.\n",
      "  x_test, y_test = np.array(xs[idx:]), np.array(labels[idx:])\n"
     ]
    }
   ],
   "source": [
    "# Restrict the data to the 10,000 most frequently occurring words found in the data.\n",
    "(train_data, train_labels), (test_data, test_labels) = reuters.load_data(num_words=10000)"
   ]
  },
  {
   "cell_type": "code",
   "execution_count": 3,
   "id": "77c06c17",
   "metadata": {},
   "outputs": [
    {
     "name": "stdout",
     "output_type": "stream",
     "text": [
      "Train shape:\n",
      "(8982,)\n",
      "(8982,)\n",
      "\n",
      "Test shape:\n",
      "(2246,)\n",
      "(2246,)\n"
     ]
    }
   ],
   "source": [
    "print(\"Train shape:\")\n",
    "print(train_data.shape)\n",
    "print(train_labels.shape)\n",
    "print(\"\\nTest shape:\")\n",
    "print(test_data.shape)\n",
    "print(test_labels.shape)"
   ]
  },
  {
   "cell_type": "code",
   "execution_count": 4,
   "id": "74731777",
   "metadata": {},
   "outputs": [
    {
     "name": "stdout",
     "output_type": "stream",
     "text": [
      "[1, 2, 2, 8, 43, 10, 447, 5, 25, 207, 270, 5, 3095, 111, 16, 369, 186, 90, 67, 7, 89, 5, 19, 102, 6, 19, 124, 15, 90, 67, 84, 22, 482, 26, 7, 48, 4, 49, 8, 864, 39, 209, 154, 6, 151, 6, 83, 11, 15, 22, 155, 11, 15, 7, 48, 9, 4579, 1005, 504, 6, 258, 6, 272, 11, 15, 22, 134, 44, 11, 15, 16, 8, 197, 1245, 90, 67, 52, 29, 209, 30, 32, 132, 6, 109, 15, 17, 12]\n"
     ]
    }
   ],
   "source": [
    "print(train_data[0]) # word indices"
   ]
  },
  {
   "cell_type": "code",
   "execution_count": 5,
   "id": "53ab9b3f",
   "metadata": {},
   "outputs": [
    {
     "name": "stdout",
     "output_type": "stream",
     "text": [
      "3\n"
     ]
    }
   ],
   "source": [
    "print(train_labels[0]) # Topic index (integer between 0 and 45)"
   ]
  },
  {
   "cell_type": "markdown",
   "id": "591c3553",
   "metadata": {},
   "source": [
    "### Decoding newswires back to text"
   ]
  },
  {
   "cell_type": "code",
   "execution_count": 6,
   "id": "2f1d4145",
   "metadata": {},
   "outputs": [
    {
     "name": "stdout",
     "output_type": "stream",
     "text": [
      "? ? ? said as a result of its december acquisition of space co it expects earnings per share in 1987 of 1 15 to 1 30 dlrs per share up from 70 cts in 1986 the company said pretax net should rise to nine to 10 mln dlrs from six mln dlrs in 1986 and rental operation revenues to 19 to 22 mln dlrs from 12 5 mln dlrs it said cash flow per share this year should be 2 50 to three dlrs reuter 3\n"
     ]
    }
   ],
   "source": [
    "word_index = reuters.get_word_index()\n",
    "reverse_word_index = dict([(value, key) for (key, value) in word_index.items()])\n",
    "decoded_newswire = ' '.join([reverse_word_index.get(i - 3, '?') for i in train_data[0]]) # offset by 3 cause reserved indices\n",
    "print(decoded_newswire)"
   ]
  },
  {
   "cell_type": "markdown",
   "id": "72d1901b",
   "metadata": {},
   "source": [
    "### Preparing the data"
   ]
  },
  {
   "cell_type": "markdown",
   "id": "cd9bdb92",
   "metadata": {},
   "source": [
    "#### Encoding the data"
   ]
  },
  {
   "cell_type": "code",
   "execution_count": 7,
   "id": "fae77341",
   "metadata": {},
   "outputs": [],
   "source": [
    "def vectorize_seq(sequences, dim=10000):\n",
    "    results = np.zeros((len(sequences), dim))\n",
    "    for i, sequence in enumerate(sequences):\n",
    "        results[i, sequence] = 1.\n",
    "    return results"
   ]
  },
  {
   "cell_type": "code",
   "execution_count": 8,
   "id": "d59b0265",
   "metadata": {},
   "outputs": [],
   "source": [
    "x_train = vectorize_seq(train_data) # Vectorized train data\n",
    "x_test = vectorize_seq(test_data) # Vectorized test data"
   ]
  },
  {
   "cell_type": "code",
   "execution_count": 9,
   "id": "d8c1f435",
   "metadata": {},
   "outputs": [],
   "source": [
    "# To vectorize the labels\n",
    "one_hot_train_labels = to_categorical(train_labels)\n",
    "one_hot_test_labels = to_categorical(test_labels)"
   ]
  },
  {
   "cell_type": "markdown",
   "id": "03de00c6",
   "metadata": {},
   "source": [
    "### Building the network"
   ]
  },
  {
   "cell_type": "code",
   "execution_count": 10,
   "id": "b835da7a",
   "metadata": {},
   "outputs": [],
   "source": [
    "model = models.Sequential()\n",
    "\n",
    "model.add(layers.Dense(128, activation='relu', input_shape=(10000,)))\n",
    "model.add(layers.Dense(128, activation='relu'))\n",
    "model.add(layers.Dense(128, activation='relu'))\n",
    "# For each input sample, the network will output a 46-dimensional vector.\n",
    "model.add(layers.Dense(46, activation='softmax')) # Softmax converts a real vector to a vector of categorical probabilities."
   ]
  },
  {
   "cell_type": "markdown",
   "id": "b31ebdac",
   "metadata": {},
   "source": [
    "### Compiling the model"
   ]
  },
  {
   "cell_type": "code",
   "execution_count": 11,
   "id": "83dd6606",
   "metadata": {},
   "outputs": [],
   "source": [
    "model.compile(optimizer='rmsprop',\n",
    "              loss='categorical_crossentropy',\n",
    "              metrics=['accuracy'])"
   ]
  },
  {
   "cell_type": "markdown",
   "id": "a077586b",
   "metadata": {},
   "source": [
    "### Validating"
   ]
  },
  {
   "cell_type": "markdown",
   "id": "5de9650d",
   "metadata": {},
   "source": [
    "#### Setting aside a validation set"
   ]
  },
  {
   "cell_type": "code",
   "execution_count": 12,
   "id": "23218b0a",
   "metadata": {},
   "outputs": [],
   "source": [
    "x_val = x_train[:1000]\n",
    "partial_x_train = x_train[1000:]\n",
    "\n",
    "y_val = one_hot_train_labels[:1000]\n",
    "partial_y_train = one_hot_train_labels[1000:]"
   ]
  },
  {
   "cell_type": "markdown",
   "id": "07c34466",
   "metadata": {},
   "source": [
    "### Training the model"
   ]
  },
  {
   "cell_type": "code",
   "execution_count": 13,
   "id": "c7066c17",
   "metadata": {},
   "outputs": [
    {
     "name": "stdout",
     "output_type": "stream",
     "text": [
      "Epoch 1/6\n",
      "16/16 [==============================] - 1s 40ms/step - loss: 2.8052 - accuracy: 0.4169 - val_loss: 1.4659 - val_accuracy: 0.6340\n",
      "Epoch 2/6\n",
      "16/16 [==============================] - 0s 22ms/step - loss: 1.2570 - accuracy: 0.7112 - val_loss: 1.3282 - val_accuracy: 0.6850\n",
      "Epoch 3/6\n",
      "16/16 [==============================] - 0s 22ms/step - loss: 0.9167 - accuracy: 0.7860 - val_loss: 1.0344 - val_accuracy: 0.7710\n",
      "Epoch 4/6\n",
      "16/16 [==============================] - 0s 22ms/step - loss: 0.6237 - accuracy: 0.8593 - val_loss: 1.0165 - val_accuracy: 0.7820\n",
      "Epoch 5/6\n",
      "16/16 [==============================] - 0s 23ms/step - loss: 0.4668 - accuracy: 0.8976 - val_loss: 0.9111 - val_accuracy: 0.8170\n",
      "Epoch 6/6\n",
      "16/16 [==============================] - 0s 21ms/step - loss: 0.2996 - accuracy: 0.9357 - val_loss: 0.9598 - val_accuracy: 0.8080\n"
     ]
    }
   ],
   "source": [
    "# For 20 epochs\n",
    "EPOCHS = 6\n",
    "# EPOCHS = 5\n",
    "history = model.fit(partial_x_train,\n",
    "                    partial_y_train,\n",
    "                    epochs=EPOCHS,\n",
    "                    batch_size=512,\n",
    "                    validation_data=(x_val, y_val))"
   ]
  },
  {
   "cell_type": "code",
   "execution_count": 14,
   "id": "3ea93257",
   "metadata": {},
   "outputs": [
    {
     "data": {
      "text/html": [
       "<div>\n",
       "<style scoped>\n",
       "    .dataframe tbody tr th:only-of-type {\n",
       "        vertical-align: middle;\n",
       "    }\n",
       "\n",
       "    .dataframe tbody tr th {\n",
       "        vertical-align: top;\n",
       "    }\n",
       "\n",
       "    .dataframe thead th {\n",
       "        text-align: right;\n",
       "    }\n",
       "</style>\n",
       "<table border=\"1\" class=\"dataframe\">\n",
       "  <thead>\n",
       "    <tr style=\"text-align: right;\">\n",
       "      <th></th>\n",
       "      <th>loss</th>\n",
       "      <th>accuracy</th>\n",
       "      <th>val_loss</th>\n",
       "      <th>val_accuracy</th>\n",
       "    </tr>\n",
       "  </thead>\n",
       "  <tbody>\n",
       "    <tr>\n",
       "      <th>0</th>\n",
       "      <td>2.222523</td>\n",
       "      <td>0.523804</td>\n",
       "      <td>1.465885</td>\n",
       "      <td>0.634</td>\n",
       "    </tr>\n",
       "    <tr>\n",
       "      <th>1</th>\n",
       "      <td>1.173092</td>\n",
       "      <td>0.729516</td>\n",
       "      <td>1.328227</td>\n",
       "      <td>0.685</td>\n",
       "    </tr>\n",
       "    <tr>\n",
       "      <th>2</th>\n",
       "      <td>0.855997</td>\n",
       "      <td>0.803433</td>\n",
       "      <td>1.034428</td>\n",
       "      <td>0.771</td>\n",
       "    </tr>\n",
       "    <tr>\n",
       "      <th>3</th>\n",
       "      <td>0.611780</td>\n",
       "      <td>0.862566</td>\n",
       "      <td>1.016546</td>\n",
       "      <td>0.782</td>\n",
       "    </tr>\n",
       "    <tr>\n",
       "      <th>4</th>\n",
       "      <td>0.468312</td>\n",
       "      <td>0.896768</td>\n",
       "      <td>0.911117</td>\n",
       "      <td>0.817</td>\n",
       "    </tr>\n",
       "    <tr>\n",
       "      <th>5</th>\n",
       "      <td>0.325934</td>\n",
       "      <td>0.928589</td>\n",
       "      <td>0.959797</td>\n",
       "      <td>0.808</td>\n",
       "    </tr>\n",
       "  </tbody>\n",
       "</table>\n",
       "</div>"
      ],
      "text/plain": [
       "       loss  accuracy  val_loss  val_accuracy\n",
       "0  2.222523  0.523804  1.465885         0.634\n",
       "1  1.173092  0.729516  1.328227         0.685\n",
       "2  0.855997  0.803433  1.034428         0.771\n",
       "3  0.611780  0.862566  1.016546         0.782\n",
       "4  0.468312  0.896768  0.911117         0.817\n",
       "5  0.325934  0.928589  0.959797         0.808"
      ]
     },
     "execution_count": 14,
     "metadata": {},
     "output_type": "execute_result"
    }
   ],
   "source": [
    "history_df = pd.DataFrame(history.history)\n",
    "history_df"
   ]
  },
  {
   "cell_type": "markdown",
   "id": "18068d16",
   "metadata": {},
   "source": [
    "### Visualizing training and validation loss"
   ]
  },
  {
   "cell_type": "code",
   "execution_count": 15,
   "id": "9cb8cb29",
   "metadata": {},
   "outputs": [
    {
     "data": {
      "image/png": "[encoded data removed]",
      "text/plain": [
       "<Figure size 750x500 with 1 Axes>"
      ]
     },
     "metadata": {},
     "output_type": "display_data"
    }
   ],
   "source": [
    "epochs = range(1, len(history_df) + 1)\n",
    "\n",
    "plt.plot(epochs, history_df.loss, 'b--', label='Training Loss')\n",
    "plt.plot(epochs, history_df.val_loss, 'r', label='Validation Loss')\n",
    "plt.xlabel('Epochs')\n",
    "plt.ylabel('Loss')\n",
    "plt.legend()\n",
    "plt.title('Training and Validation Loss')\n",
    "plt.ylim(0, np.max(history_df[['val_loss', 'loss']]).max())\n",
    "plt.show()"
   ]
  },
  {
   "cell_type": "markdown",
   "id": "99334899",
   "metadata": {},
   "source": [
    "### Plotting the training and validation accuracy"
   ]
  },
  {
   "cell_type": "code",
   "execution_count": 16,
   "id": "3e8f392f",
   "metadata": {},
   "outputs": [
    {
     "data": {
      "image/png": "[encoded data removed]",
      "text/plain": [
       "<Figure size 750x500 with 1 Axes>"
      ]
     },
     "metadata": {},
     "output_type": "display_data"
    }
   ],
   "source": [
    "plt.plot(epochs, history_df.accuracy, 'b--', label='Training Loss')\n",
    "plt.plot(epochs, history_df.val_accuracy, 'r', label='Validation Loss')\n",
    "plt.xlabel('Epochs')\n",
    "plt.ylabel('Accuracy')\n",
    "plt.legend()\n",
    "plt.title('Training and Validation Accuracy')\n",
    "plt.ylim(0, 1)\n",
    "plt.show()"
   ]
  },
  {
   "cell_type": "code",
   "execution_count": 17,
   "id": "4ae61566",
   "metadata": {},
   "outputs": [
    {
     "name": "stdout",
     "output_type": "stream",
     "text": [
      "71/71 [==============================] - 0s 2ms/step - loss: 1.0599 - accuracy: 0.7729\n"
     ]
    }
   ],
   "source": [
    "results = model.evaluate(x_test, one_hot_test_labels)"
   ]
  },
  {
   "cell_type": "markdown",
   "id": "a2fc242f",
   "metadata": {},
   "source": [
    "We reach an accuracy of approximately 80%. "
   ]
  },
  {
   "cell_type": "markdown",
   "id": "d12c2c67",
   "metadata": {},
   "source": [
    "### Generating predictions on new data"
   ]
  },
  {
   "cell_type": "code",
   "execution_count": 18,
   "id": "67e724d9",
   "metadata": {},
   "outputs": [
    {
     "name": "stdout",
     "output_type": "stream",
     "text": [
      "(2246, 10000)\n"
     ]
    }
   ],
   "source": [
    "print(x_test.shape)"
   ]
  },
  {
   "cell_type": "code",
   "execution_count": 19,
   "id": "48ce58e9",
   "metadata": {},
   "outputs": [],
   "source": [
    "predictions = model.predict(x_test)"
   ]
  },
  {
   "cell_type": "code",
   "execution_count": 20,
   "id": "50d6340f",
   "metadata": {},
   "outputs": [
    {
     "name": "stdout",
     "output_type": "stream",
     "text": [
      "(2246, 46)\n"
     ]
    }
   ],
   "source": [
    "print(predictions.shape) # Probability distributions over the 46 topics."
   ]
  },
  {
   "cell_type": "code",
   "execution_count": 21,
   "id": "38e64063",
   "metadata": {},
   "outputs": [
    {
     "data": {
      "text/plain": [
       "array([2.5086507e-05, 2.2054135e-05, 1.3731571e-05, 9.8033959e-01,\n",
       "       1.5988067e-02, 2.0831230e-05, 7.8415233e-06, 8.9722771e-06,\n",
       "       1.4320065e-03, 3.2835082e-06, 1.0022035e-06, 5.2901969e-04,\n",
       "       1.3202646e-04, 8.0383807e-06, 1.1179387e-04, 6.6132600e-07,\n",
       "       1.2909666e-04, 2.0891898e-06, 2.7993949e-05, 5.2422949e-04,\n",
       "       7.2904906e-05, 1.2666527e-04, 1.5937076e-05, 1.3075032e-05,\n",
       "       2.2025426e-05, 6.3047351e-06, 1.8583722e-05, 3.2263777e-06,\n",
       "       2.5132422e-06, 2.9881619e-05, 1.4611007e-05, 1.4648119e-05,\n",
       "       2.2070831e-06, 1.9738145e-06, 1.3951058e-05, 8.4746932e-07,\n",
       "       8.8836561e-05, 2.4676563e-06, 2.3825021e-05, 1.6705965e-04,\n",
       "       7.3558422e-06, 9.3416220e-06, 1.9536674e-06, 9.5285222e-06,\n",
       "       2.2287677e-06, 6.7837715e-07], dtype=float32)"
      ]
     },
     "execution_count": 21,
     "metadata": {},
     "output_type": "execute_result"
    }
   ],
   "source": [
    "predictions[0]"
   ]
  },
  {
   "cell_type": "code",
   "execution_count": 22,
   "id": "6f171669",
   "metadata": {},
   "outputs": [
    {
     "data": {
      "text/plain": [
       "0.99999994"
      ]
     },
     "execution_count": 22,
     "metadata": {},
     "output_type": "execute_result"
    }
   ],
   "source": [
    "# Sum to 1\n",
    "predictions[0].sum()"
   ]
  },
  {
   "cell_type": "code",
   "execution_count": 23,
   "id": "9f7fe19d",
   "metadata": {},
   "outputs": [
    {
     "data": {
      "text/plain": [
       "3"
      ]
     },
     "execution_count": 23,
     "metadata": {},
     "output_type": "execute_result"
    }
   ],
   "source": [
    "# The class with the highest probability\n",
    "np.argmax(predictions[0]) # Returns the indices of the maximum values along an axis."
   ]
  },
  {
   "cell_type": "code",
   "execution_count": null,
   "id": "265fa72e",
   "metadata": {},
   "outputs": [],
   "source": []
  }
 ],
 "metadata": {
  "kernelspec": {
   "display_name": "tensorflow",
   "language": "python",
   "name": "tensorflow"
  },
  "language_info": {
   "codemirror_mode": {
    "name": "ipython",
    "version": 3
   },
   "file_extension": ".py",
   "mimetype": "text/x-python",
   "name": "python",
   "nbconvert_exporter": "python",
   "pygments_lexer": "ipython3",
   "version": "3.8.8"
  }
 },
 "nbformat": 4,
 "nbformat_minor": 5
}
